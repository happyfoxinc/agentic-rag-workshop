{
  "cells": [
    {
      "cell_type": "markdown",
      "metadata": {
        "id": "b0MmbuV4h07C"
      },
      "source": [
        "# Introduction to Tool-Using Agents\n"
      ]
    },
    {
      "cell_type": "markdown",
      "metadata": {
        "id": "KpB2w6dESW3c"
      },
      "source": [
        "\n",
        "## Capabilities of LLMs\n",
        "\n",
        "Large Language Models (LLMs) have revolutionized the field of artificial intelligence with their impressive range of capabilities. These models can perform a wide array of tasks, including but not limited to:\n",
        "\n",
        "1. **Text Generation**: Creating coherent and contextually relevant text across various styles and formats.\n",
        "\n",
        "2. **Reasoning**: Analyzing information, drawing conclusions, and solving complex problems.\n",
        "\n",
        "3. **Classification**: Categorizing input data into predefined classes or categories.\n",
        "\n",
        "4. **Summarization**: Condensing long texts into concise, informative summaries.\n",
        "\n",
        "5. **Translation**: Converting text from one language to another.\n",
        "\n",
        "6. **Question Answering**: Providing relevant answers to queries based on given information.\n",
        "\n",
        "7. **Sentiment Analysis**: Determining the emotional tone of a piece of text."
      ]
    },
    {
      "cell_type": "markdown",
      "metadata": {
        "id": "xTRegl-3T1cp"
      },
      "source": [
        "## Limitations of Traditional LLMs\n",
        "\n",
        "Despite their versatility, traditional LLMs face certain limitations:\n",
        "\n",
        "1. **Knowledge Cutoff**: They can only provide information up to their last training date.\n",
        "\n",
        "2. **Lack of Real-Time Data**: Unable to access current information or real-world changes.\n",
        "\n",
        "3. **No External Interaction**: Cannot interact with external systems or databases.\n",
        "\n",
        "4. **Limited Output Formats**: Primarily generate text, with some models capable of image generation."
      ]
    },
    {
      "cell_type": "markdown",
      "metadata": {
        "id": "De4rVu_HT9T-"
      },
      "source": [
        "## Bridging the Gap with Tools\n",
        "\n",
        "To overcome these limitations and enhance the capabilities of LLMs, researchers and developers have introduced the concept of \"tools.\" These tools are external systems or functions that LLMs can leverage to accomplish specific parts of a given task.\n",
        "\n",
        "### What Are Tools?\n",
        "\n",
        "Tools in the context of LLMs are:\n",
        "- External APIs, software, or functions\n",
        "- Specialized systems designed for specific tasks\n",
        "- Interfaces that allow LLMs to interact with the real world or access current data\n",
        "\n",
        "### Benefits of Integrating Tools with LLMs\n",
        "\n",
        "1. **Enhanced Capabilities**: LLMs can perform tasks beyond their training data.\n",
        "\n",
        "2. **Real-Time Information**: Access to up-to-date data and current events.\n",
        "\n",
        "3. **Expanded Output Formats**: Generate not just text, but also graphs, code, or structured data.\n",
        "\n",
        "4. **Improved Accuracy**: Leverage specialized tools for tasks requiring precision.\n",
        "\n",
        "5. **Interactive Problem-Solving**: Ability to manipulate data, perform calculations, or run simulations.\n",
        "\n",
        "### Examples of Tools\n",
        "\n",
        "- Web search engines for current information\n",
        "- Database querying systems for specific data retrieval\n",
        "- APIs for weather forecasts, stock prices, or other real-time data\n",
        "- Code execution environments for running and testing code\n",
        "- Mathematical tools for complex calculations\n",
        "- Data visualization libraries for creating graphs and charts"
      ]
    },
    {
      "cell_type": "markdown",
      "metadata": {
        "id": "BQyX_4tMPoos"
      },
      "source": [
        "# Tool-Using Agents\n",
        "\n",
        "Tool-using agents are AI systems designed to interact with and utilize various tools or external resources to accomplish tasks more effectively. These agents combine the power of language models with the ability to use specific tools, bridging the gap between general language understanding and specialized task execution."
      ]
    },
    {
      "cell_type": "markdown",
      "metadata": {
        "id": "6atenwJjUYez"
      },
      "source": [
        "## Key Concepts\n",
        "\n",
        "1. **Agent**: An AI system capable of perceiving its environment, making decisions, and taking actions.\n",
        "\n",
        "2. **Tool**: Any external resource, API, or function that the agent can use to gather information or perform actions.\n",
        "\n",
        "3. **Reasoning**: The agent's ability to decide which tool to use and how to interpret the results.\n",
        "\n",
        "4. **Action Planning**: The process of determining a sequence of actions (including tool use) to achieve a goal."
      ]
    },
    {
      "cell_type": "markdown",
      "metadata": {
        "id": "UUOvdv5RUa11"
      },
      "source": [
        "## How Tool-Using Agents Work\n",
        "\n",
        "1. **Task Understanding**: The agent interprets the user's request or the given task.\n",
        "\n",
        "2. **Tool Selection**: Based on the task, the agent chooses appropriate tools from its available toolkit.\n",
        "\n",
        "3. **Tool Usage**: The agent interacts with the selected tool, providing necessary inputs.\n",
        "\n",
        "4. **Result Interpretation**: The agent processes the output from the tool and integrates it into its reasoning.\n",
        "\n",
        "5. **Response Generation**: Using the gathered information, the agent formulates a response or takes further action."
      ]
    },
    {
      "cell_type": "markdown",
      "metadata": {
        "id": "wcKcynD6Ueuj"
      },
      "source": [
        "## Challenges and Considerations\n",
        "\n",
        "1. **Tool Selection**: Choosing the right tool for a given task can be complex.\n",
        "\n",
        "2. **Error Handling**: Agents must manage potential errors or unexpected outputs from tools.\n",
        "\n",
        "3. **Security and Privacy**: Proper safeguards are needed when agents interact with external systems.\n",
        "\n",
        "4. **Ethical Use**: Ensuring responsible and beneficial use of tool-augmented AI systems.\n",
        "\n",
        "\n",
        "With that being said, let's jump into code and start building own Tool-Using Agent"
      ]
    },
    {
      "cell_type": "markdown",
      "metadata": {
        "id": "55Lg6OqRh8Vv"
      },
      "source": [
        "# Building a simple tool using Agent\n",
        "\n",
        "## What are we going to build ?\n",
        "\n",
        "An Agent that can answer to natural language queries from a csv by performing certain operations on it.\n",
        "\n",
        "We are going to use Google's Gemini as our LLM to build this."
      ]
    },
    {
      "cell_type": "code",
      "execution_count": null,
      "metadata": {
        "id": "T-1UPlW6iDHj"
      },
      "outputs": [],
      "source": [
        "# import os\n",
        "# from google.colab import userdata\n",
        "\n",
        "# GOOGLE_API_KEY = userdata.get(\"GEMINI_API_KEY\")"
      ]
    },
    {
      "cell_type": "markdown",
      "metadata": {
        "id": "W-vZGUwHjIT2"
      },
      "source": [
        "## Install required dependencies\n",
        "\n",
        "- pandas: pandas is a fast, powerful, flexible and easy to use open source data analysis and manipulation tool,\n",
        "built on top of the Python programming language.\n",
        "- llama-index: A comprehensive framework to build LLM applications\n",
        "- llama-index-llms-gemini: An addon to llama-index to use Gemini"
      ]
    },
    {
      "cell_type": "code",
      "execution_count": null,
      "metadata": {
        "collapsed": true,
        "id": "az8XA6LriMYB"
      },
      "outputs": [],
      "source": [
        "# install requried dependencies\n",
        "# !pip install pandas\n",
        "# !pip install llama-index\n",
        "# !pip install llama-index-llms-gemini"
      ]
    },
    {
      "cell_type": "markdown",
      "metadata": {},
      "source": [
        "## Download the required dataset\n",
        "\n",
        "Our dataset is available in Github - https://raw.githubusercontent.com/happyfoxinc/agentic-rag-workshop/main/data/ODI_data.csv"
      ]
    },
    {
      "cell_type": "code",
      "execution_count": null,
      "metadata": {},
      "outputs": [],
      "source": [
        "# !wget -O ODI_data.csv https://raw.githubusercontent.com/happyfoxinc/agentic-rag-workshop/main/data/ODI_data.csv"
      ]
    },
    {
      "cell_type": "markdown",
      "metadata": {
        "id": "ONHMPyim8pdP"
      },
      "source": [
        "## Import Data\n",
        "\n",
        "Let's import the data and take a look at what we are going to work with"
      ]
    },
    {
      "cell_type": "code",
      "execution_count": null,
      "metadata": {
        "id": "RCv2h244ovrX"
      },
      "outputs": [],
      "source": [
        "# load data using pandas\n",
        "# import pandas as pd\n",
        "\n",
        "# df = pd.read_csv(\"/content/ODI_data.csv\")\n",
        "\n",
        "# see what we are dealing with\n",
        "# df.head()"
      ]
    },
    {
      "cell_type": "markdown",
      "metadata": {
        "id": "osXtxFu588fq"
      },
      "source": [
        "## Interacting with our LLM (PING check 😉)"
      ]
    },
    {
      "cell_type": "code",
      "execution_count": null,
      "metadata": {
        "id": "elZBbBxssBFc"
      },
      "outputs": [],
      "source": [
        "# from llama_index.core.llms import ChatMessage\n",
        "# from llama_index.llms.gemini import Gemini\n",
        "\n",
        "# messages = [\n",
        "#     ChatMessage(role=\"user\", content=\"Hey\"),\n",
        "# ]\n",
        "\n",
        "# llm = Gemini(\n",
        "#     api_key=GOOGLE_API_KEY,\n",
        "#     model=\"models/gemini-1.5-flash\"\n",
        "# )\n",
        "# resp = llm.chat(messages)\n",
        "# resp.message.content"
      ]
    },
    {
      "cell_type": "markdown",
      "metadata": {
        "id": "18IypvJLtofo"
      },
      "source": [
        "## Building a simple tool\n",
        "\n",
        "Now, lets build a simple tool that can get some insights from the data that we have. Let's say you want,\n",
        "\n",
        "For each player in the dataset,\n",
        "1. Find their total runs scored\n",
        "2. Find the total number of sixes\n",
        "\n",
        "\n",
        "We are going to use LlamaIndex to build this simple tool"
      ]
    },
    {
      "cell_type": "markdown",
      "metadata": {
        "id": "JSoL2X1fEWV_"
      },
      "source": [
        "### Preprocessing the dataset\n",
        "\n",
        "The two columns in the dataset that we are going to use are,\n",
        "\n",
        "1. Innings Runs Scored\n",
        "2. Innings Boundary Sixes\n",
        "\n",
        "We will want to perform certain mathematical operations on these columns. These columns contain some string data in them. We should handle those cases."
      ]
    },
    {
      "cell_type": "code",
      "execution_count": null,
      "metadata": {
        "id": "o_0LOpuX2e1V"
      },
      "outputs": [],
      "source": [
        "# preprocess the data set\n",
        "# def clean_runs(value):\n",
        "#   if isinstance(value, str):\n",
        "#       if value in [\"DNB\", \"TDNB\", \"absent\", \"sub\"]:\n",
        "#         return 0\n",
        "#       return int(value.rstrip('*'))\n",
        "#   return value\n",
        "\n",
        "# def clean_sixes(value):\n",
        "#   if value == \"-\" or pd.isna(value):\n",
        "#       return 0\n",
        "#   return int(value)\n",
        "\n",
        "# df[\"Innings Runs Scored\"] = df[\"Innings Runs Scored\"].apply(clean_runs)\n",
        "# df[\"Innings Boundary Sixes\"] = df[\"Innings Boundary Sixes\"].apply(clean_sixes)\n",
        "\n",
        "# df.head()"
      ]
    },
    {
      "cell_type": "markdown",
      "metadata": {
        "id": "INb9mFbsUzoo"
      },
      "source": [
        "### Tool to get player insights from our dataset"
      ]
    },
    {
      "cell_type": "code",
      "execution_count": null,
      "metadata": {
        "id": "8q6xvMiQtgKK"
      },
      "outputs": [],
      "source": [
        "# from llama_index.core.tools import FunctionTool\n",
        "\n",
        "# def get_player_insights(player_name: str, insight_type: str):\n",
        "#   \"\"\"\n",
        "#   Get player insights\n",
        "#   Supported insght_types\n",
        "#   1. total_runs_scored\n",
        "#   2. total_no_of_sixes\n",
        "#   \"\"\"\n",
        "#   # Filter the dataframe for the specific player\n",
        "#   player_df = df[df[\"Innings Player\"] == player_name]\n",
        "\n",
        "#   if insight_type == \"total_runs_scored\":\n",
        "#     # Calculate total runs\n",
        "#     total_runs = player_df[\"Innings Runs Scored\"].sum()\n",
        "\n",
        "#     return f\"{player_name} has scored {total_runs} runs.\"\n",
        "#   elif insight_type == \"total_no_of_sixes\":\n",
        "#     # Calculate total sixes\n",
        "#     total_sixes = player_df[\"Innings Boundary Sixes\"].sum()\n",
        "\n",
        "#     return f\"{player_name} has hit {total_sixes}.\"\n",
        "#   else:\n",
        "#     return \"This operation is not supported\"\n",
        "\n",
        "\n",
        "# get_player_insight_tool = FunctionTool.from_defaults(fn=get_player_insights)"
      ]
    },
    {
      "cell_type": "markdown",
      "metadata": {
        "id": "-LHLA7SF-QJX"
      },
      "source": [
        "## Initialize our ReAct Agent with the tool we built"
      ]
    },
    {
      "cell_type": "code",
      "execution_count": null,
      "metadata": {
        "id": "B180Iiu9ue_L"
      },
      "outputs": [],
      "source": [
        "# from llama_index.core.agent import ReActAgent\n",
        "\n",
        "# agent = ReActAgent.from_tools([get_player_insight_tool], llm=llm, verbose=True)"
      ]
    },
    {
      "cell_type": "markdown",
      "metadata": {
        "id": "hIjIYDB3-mGQ"
      },
      "source": [
        "## Some examples of interacting with our tool using Agent"
      ]
    },
    {
      "cell_type": "code",
      "execution_count": null,
      "metadata": {
        "id": "_TSkhs970Hz0"
      },
      "outputs": [],
      "source": [
        "# simple query which sums up score column\n",
        "# response = agent.chat(\"How many sixes did MS Dhoni score ?\")"
      ]
    },
    {
      "cell_type": "code",
      "execution_count": null,
      "metadata": {
        "id": "K0y7nvPt-524"
      },
      "outputs": [],
      "source": [
        "# simple query which sums up sixes column\n",
        "# response = agent.chat(\"V Kohli's total runs\")"
      ]
    },
    {
      "cell_type": "code",
      "execution_count": null,
      "metadata": {
        "id": "17Z0zRxR_NGC"
      },
      "outputs": [],
      "source": [
        "# query which needs data from both columns\n",
        "# response = agent.chat(\"How many runs did MS Dhoni score and how many of them were sixes ?\")"
      ]
    },
    {
      "cell_type": "code",
      "execution_count": null,
      "metadata": {
        "id": "B9NNVJwj_aL_"
      },
      "outputs": [],
      "source": [
        "# a complex query which needs to use tool multiple times to arrive at the answer\n",
        "# response = agent.chat(\"Compare V Kholi and MS Dhoni on runs and sixes scored.\")"
      ]
    },
    {
      "cell_type": "markdown",
      "metadata": {
        "id": "uo5PJJRJBi-9"
      },
      "source": [
        "# Building an Agent with an API calling tool\n",
        "\n",
        "### What are we going to build ?\n",
        "\n",
        "Currently, India is Touring Sri Lanka. Let's build an Agent who can give us info regarding that.\n",
        "\n",
        "I will be using a free cricket data API service called [Cricket Data](https://cricketdata.org)\n",
        "\n",
        "*Steps to get the API Key*\n",
        "\n",
        "1. Sign up for an account here [Signup](https://cricketdata.org/signup.aspx).\n",
        "2. Verify your email and login.\n",
        "3. You should be able to see your Free API key in the dashboard page."
      ]
    },
    {
      "cell_type": "markdown",
      "metadata": {
        "id": "MVV4GFgoFjAc"
      },
      "source": [
        "### Install required dependencies\n",
        "\n",
        "- requests: A python library for making API requests"
      ]
    },
    {
      "cell_type": "code",
      "execution_count": null,
      "metadata": {
        "id": "9Zz0Og0-Fu4Z"
      },
      "outputs": [],
      "source": [
        "# !pip install requests"
      ]
    },
    {
      "cell_type": "markdown",
      "metadata": {
        "id": "QRn_DMMuEGjP"
      },
      "source": [
        "### Build the tools to call the API.\n",
        "\n",
        "For this activity we are going to need the following tools.\n",
        "\n",
        "1. Tool to get matches info in the series\n",
        "2. Tool to get a specific match info\n",
        "3. Tool to get scorecard for a specific match\n",
        "4. Tool to get the team squads for the series\n",
        "\n",
        "\n",
        "Let's start building it."
      ]
    },
    {
      "cell_type": "code",
      "execution_count": null,
      "metadata": {
        "id": "sA_xEC04Ec7D"
      },
      "outputs": [],
      "source": [
        "# import requests\n",
        "# from llama_index.core.tools import FunctionTool\n",
        "\n",
        "# this is a constant series id for the series we are\n",
        "# going to fetch the info for.\n",
        "# SERIES_ID = \"cd10491a-4a2f-4fd1-bef9-3e1c4614732c\"\n",
        "\n",
        "# CRICKET_API = userdata.get(\"CRICKET_API\")\n",
        "\n",
        "# def get_matches_list():\n",
        "#   \"\"\"\n",
        "#   Return the list of Matches and their information\n",
        "#   for India tour of Srilanka 2024\n",
        "#   \"\"\"\n",
        "#   url = f\"https://api.cricapi.com/v1/series_info?apikey={CRICKET_API}&id={SERIES_ID}\"\n",
        "\n",
        "#   response = requests.get(url)\n",
        "#   return response.json()\n",
        "\n",
        "# def get_specific_match_info(match_id: str):\n",
        "#   \"\"\"\n",
        "#   Returns Match Specific info for India tour of\n",
        "#   Sri Lanka 2024\n",
        "#   Args\n",
        "#    - match_id - UUID of the match which can be obtained using get_matches_list\n",
        "#   \"\"\"\n",
        "#   url = f\"https://api.cricapi.com/v1/match_info?apikey={CRICKET_API}&id={match_id}\"\n",
        "\n",
        "#   response = requests.get(url)\n",
        "#   return response.json()\n",
        "\n",
        "\n",
        "# def get_match_scorecard(match_id: str):\n",
        "#   \"\"\"\n",
        "#   Returns score card for a specific match for India tour of\n",
        "#   Sri Lanka 2024\n",
        "#   Args\n",
        "#    - match_id - UUID of the match which can be obtained using get_matches_list\n",
        "#   \"\"\"\n",
        "#   url = url = f\"https://api.cricapi.com/v1/match_scorecard?apikey={CRICKET_API}&id={match_id}\"\n",
        "\n",
        "#   response = requests.get(url)\n",
        "#   return response.json()\n",
        "\n",
        "\n",
        "# def get_series_squad():\n",
        "#   \"\"\"\n",
        "#   Returns team squads for India tour of\n",
        "#   Sri Lanka 2024\n",
        "#   \"\"\"\n",
        "#   url = url = f\"https://api.cricapi.com/v1/series_squad?apikey={CRICKET_API}&id={SERIES_ID}\"\n",
        "\n",
        "#   response = requests.get(url)\n",
        "#   return response.json()\n",
        "\n",
        "# get_match_scorecard_tool = FunctionTool.from_defaults(fn=get_match_scorecard)\n",
        "# get_matches_list_tool = FunctionTool.from_defaults(fn=get_matches_list)\n",
        "# get_specific_match_info_tool = FunctionTool.from_defaults(fn=get_specific_match_info)\n",
        "# get_series_squad_tool = FunctionTool.from_defaults(fn=get_series_squad)\n"
      ]
    },
    {
      "cell_type": "markdown",
      "metadata": {
        "id": "uHyuEI2UJP4D"
      },
      "source": [
        "### Initialize our ReAct agent"
      ]
    },
    {
      "cell_type": "code",
      "execution_count": null,
      "metadata": {
        "id": "y7Ubx9DBFAFc"
      },
      "outputs": [],
      "source": [
        "# from llama_index.core.agent import ReActAgent\n",
        "\n",
        "# api_agent = ReActAgent.from_tools([get_matches_list_tool, get_series_squad_tool, get_match_scorecard_tool, get_specific_match_info_tool], llm=llm, verbose=True)"
      ]
    },
    {
      "cell_type": "markdown",
      "metadata": {
        "id": "NAuoxslUJ3pf"
      },
      "source": [
        "## Some examples of interacting with our tool using Agent"
      ]
    },
    {
      "cell_type": "code",
      "execution_count": null,
      "metadata": {
        "id": "m5Di7Y0DJ8Rk"
      },
      "outputs": [],
      "source": [
        "# response = api_agent.chat(\"What's the result of the first T20 ?\")"
      ]
    },
    {
      "cell_type": "code",
      "execution_count": null,
      "metadata": {
        "id": "quW2WCw1sIGs"
      },
      "outputs": [],
      "source": [
        "# response = api_agent.chat(\"What's the result of the first ODI ?\")"
      ]
    },
    {
      "cell_type": "code",
      "execution_count": null,
      "metadata": {
        "id": "LSUU8SzusZ5X"
      },
      "outputs": [],
      "source": [
        "# response = api_agent.chat(\"What is the average of Y Jaiswal throughout the T20 series\")"
      ]
    },
    {
      "cell_type": "code",
      "execution_count": null,
      "metadata": {
        "id": "4qNERrGYtEan"
      },
      "outputs": [],
      "source": [
        "# response = api_agent.chat(\"How many matches are planned for the tour ?\")"
      ]
    },
    {
      "cell_type": "markdown",
      "metadata": {
        "id": "kSRx0pe8_1xH"
      },
      "source": [
        "# Exercises"
      ]
    },
    {
      "cell_type": "markdown",
      "metadata": {
        "id": "EwAEDiPo_4nO"
      },
      "source": [
        "## Excercise 1\n",
        "\n",
        "In this exercise we can try to extend the capabilities of our `get_player_insights` tool.\n",
        "\n",
        "\n",
        "Suggestions:\n",
        "\n",
        "1. Add a capability to analyse the no of boundaries scored along with the sixes.\n",
        "\n",
        "2. Try to get the average strike rate for each player.\n",
        "\n",
        "3. Try to find all the player names in the same team as the player you give as input. Eg: when you say V Kohli, it should find all the players in the same team as Virat Kohl."
      ]
    },
    {
      "cell_type": "markdown",
      "metadata": {
        "id": "3CCGBcjaC4yH"
      },
      "source": [
        "### Existing tool code\n",
        "\n",
        "You can make modifications to the below code so that it answer these questions\n",
        "\n",
        "1. How many boundaries has V Kohli scored ?\n",
        "\n",
        "2. What is the average strike rate of MS Dhoni.\n",
        "\n",
        "3. Give me the team mates of V Kohli.\n",
        "\n",
        "\n",
        "*Some tips for doing the execise*\n",
        "\n",
        "1. If you encounter any issues when performing operations on the dataset, check if the dataset has any inappropriate values and try to clean them.\n",
        "\n",
        "2. If there are any variable or import not found error, try running the cells above where the imports/variables are declared, or feel free to copy and paste them here.\n",
        "\n",
        "3. For operations than can be performed with pandas on a csv dataset, try reading throught their documentation and understand what is needed for completing this task."
      ]
    },
    {
      "cell_type": "code",
      "execution_count": null,
      "metadata": {
        "id": "52UhVsv5DCrc"
      },
      "outputs": [],
      "source": [
        "from llama_index.core.tools import FunctionTool\n",
        "\n",
        "def get_player_insights(player_name: str, insight_type: str):\n",
        "  \"\"\"\n",
        "  Get player insights\n",
        "  Supported insght_types\n",
        "  1. total_runs_scored\n",
        "  2. total_no_of_sixes\n",
        "  \"\"\"\n",
        "  # Filter the dataframe for the specific player\n",
        "  player_df = df[df[\"Innings Player\"] == player_name]\n",
        "\n",
        "  if insight_type == \"total_runs_scored\":\n",
        "    # Calculate total runs\n",
        "    total_runs = player_df[\"Innings Runs Scored\"].sum()\n",
        "\n",
        "    return f\"{player_name} has scored {total_runs} runs.\"\n",
        "  elif insight_type == \"total_no_of_sixes\":\n",
        "    # Calculate total sixes\n",
        "    total_sixes = player_df[\"Innings Boundary Sixes\"].sum()\n",
        "\n",
        "    return f\"{player_name} has hit {total_sixes}.\"\n",
        "  else:\n",
        "    return \"This operation is not supported\"\n",
        "\n",
        "\n",
        "get_player_insight_tool = FunctionTool.from_defaults(fn=get_player_insights)"
      ]
    },
    {
      "cell_type": "markdown",
      "metadata": {
        "id": "1DZd6ELAF3pT"
      },
      "source": [
        "## Excercise 2\n",
        "\n",
        "In this excerise you are going to build your own [Perplexity AI](https://www.perplexity.ai/).\n",
        "\n",
        "If you guys are not familiar with what [Perplexity AI](https://www.perplexity.ai/) is, it is very similar to ChatGPT but also has access to the internet and can quote results from the web.\n",
        "\n",
        "\n",
        "*Tasks that need to be completed for this exercise*\n",
        "\n",
        "1. Write a tool using Llama Index going through the cells above which will enable the LLM to browse and get results from the internet.\n",
        "\n",
        "2. The tool should get a URL as the input, make a request to that URL and return the text from the URL as the output.\n",
        "\n",
        "3. Initialize a ReAct agent from this tool and try to play around with it.\n",
        "\n",
        "\n",
        "*Some advanced tasks that you can try (Optional)*\n",
        "\n",
        "1. Try to summarise the website with another LLM call inside the tool and return the summarised version as the output from the tool. This will be useful if the website's content is large.\n",
        "\n",
        "## Inorder to search the web, we can use free [Serper API](https://serper.dev/)\n",
        "\n",
        "1. Sign up for a new account or login if you have an existing account.\n",
        "\n",
        "2. The API Key can be found by the API Key region on the left sidebar\n",
        "\n",
        "All the very best for doing these exercises. I hope you guys will have fun doing these."
      ]
    },
    {
      "cell_type": "code",
      "execution_count": null,
      "metadata": {
        "id": "GoutNaJzKGcG"
      },
      "outputs": [],
      "source": [
        "# You can start here"
      ]
    }
  ],
  "metadata": {
    "colab": {
      "provenance": [],
      "toc_visible": true
    },
    "kernelspec": {
      "display_name": "Python 3",
      "name": "python3"
    },
    "language_info": {
      "name": "python"
    }
  },
  "nbformat": 4,
  "nbformat_minor": 0
}
