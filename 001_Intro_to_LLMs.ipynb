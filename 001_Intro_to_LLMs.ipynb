{
  "nbformat": 4,
  "nbformat_minor": 0,
  "metadata": {
    "colab": {
      "private_outputs": true,
      "provenance": [],
      "toc_visible": true
    },
    "kernelspec": {
      "name": "python3",
      "display_name": "Python 3"
    },
    "language_info": {
      "name": "python"
    }
  },
  "cells": [
    {
      "cell_type": "markdown",
      "source": [
        "# Getting a gemini API token"
      ],
      "metadata": {
        "id": "m7J226Cryd0C"
      }
    },
    {
      "cell_type": "markdown",
      "source": [
        "\n",
        "\n",
        "1. Visit this site (https://ai.google.dev/gemini-api)\n",
        "2. Login with your personal Google account.\n",
        "3. Click **\"Get API key in Google studio\"**\n",
        "4. Create a new API Key\n",
        "5. Copy it, and go to Secrets in colab, create a new key titled **GOOGLE_API_KEY** and paste it.\n",
        "\n"
      ],
      "metadata": {
        "id": "nTycjz7FygVr"
      }
    },
    {
      "cell_type": "markdown",
      "source": [
        "# Introduction to LLM's"
      ],
      "metadata": {
        "id": "uhl_2mcz2G0g"
      }
    },
    {
      "cell_type": "markdown",
      "source": [
        "![img](https://www.investopedia.com/thmb/ulGrKT5WnVclGMOgQQVe65OtmeI=/1500x0/filters:no_upscale():max_bytes(150000):strip_icc()/large-language-model-7563532-final-9e350e9fa02d4685887aa061af7a2de2.png)"
      ],
      "metadata": {
        "id": "9Wd4Ig292x5M"
      }
    },
    {
      "cell_type": "markdown",
      "source": [
        "Large Language Models (LLMs) are advanced AI systems trained on vast amounts of text data.\n",
        "\n",
        "They can understand, generate, and manipulate human-like text.\n",
        "\n",
        "Examples include GPT (by OpenAI), BERT (by Google), and LLaMA (by Meta)."
      ],
      "metadata": {
        "id": "PJ0wJJxU28VU"
      }
    },
    {
      "cell_type": "markdown",
      "source": [
        "# How do LLMs work ?"
      ],
      "metadata": {
        "id": "TYsSFmbi32CG"
      }
    },
    {
      "cell_type": "markdown",
      "source": [
        "**Training:**\n",
        "\n",
        "Fed enormous datasets of text from the internet, books, and other sources.\n",
        "Learn patterns, grammar, facts, and reasoning abilities.\n",
        "\n",
        "\n",
        "**Neural Networks:**\n",
        "\n",
        "Use complex neural networks with billions of parameters.\n",
        "Most modern LLMs use a \"transformer\" architecture.\n",
        "\n",
        "\n",
        "**Prediction:**\n",
        "\n",
        "Given an input (prompt), they predict the most likely next words.\n",
        "This allows them to generate coherent and contextually relevant text."
      ],
      "metadata": {
        "id": "6h7iEjry344a"
      }
    },
    {
      "cell_type": "markdown",
      "source": [
        "![img](https://miro.medium.com/v2/resize:fit:2000/1*M3n8sKITIwtcSXHfGd2dOA.png)"
      ],
      "metadata": {
        "id": "J80KGNR44_Gm"
      }
    },
    {
      "cell_type": "markdown",
      "source": [
        "# Capabilities of LLM"
      ],
      "metadata": {
        "id": "i3aKxs_D3-Q8"
      }
    },
    {
      "cell_type": "markdown",
      "source": [
        "1. Text generation (stories, articles, code)\n",
        "2. Question answering\n",
        "3. Language translation\n",
        "4. Summarization\n",
        "5. Sentiment analysis\n",
        "6. Code completion and generation"
      ],
      "metadata": {
        "id": "my_aCT594AhR"
      }
    },
    {
      "cell_type": "markdown",
      "source": [
        "# LLM Providers"
      ],
      "metadata": {
        "id": "r6KcpWZg5qbn"
      }
    },
    {
      "cell_type": "markdown",
      "source": [
        "![img](https://files.readme.io/86b4f03-Qz0kzkgriMjUaSg0BxqrLHYULbI.webp)"
      ],
      "metadata": {
        "id": "gGx-8nQr5r9G"
      }
    },
    {
      "cell_type": "markdown",
      "source": [
        "# Introduction to Gemini"
      ],
      "metadata": {
        "id": "16R0JSfT4JxQ"
      }
    },
    {
      "cell_type": "markdown",
      "source": [
        "Google Gemini is a family of multimodal large language models developed by Google DeepMind, serving as the successor to LaMDA and PaLM2.\n",
        "\n",
        "![gemini.jpg](https://upload.wikimedia.org/wikipedia/commons/thumb/8/8a/Google_Gemini_logo.svg/440px-Google_Gemini_logo.svg.png)"
      ],
      "metadata": {
        "id": "giFtIF9mPp81"
      }
    },
    {
      "cell_type": "markdown",
      "source": [
        "### Models available in Gemini family\n"
      ],
      "metadata": {
        "id": "ev1Jw0lIQnlF"
      }
    },
    {
      "cell_type": "markdown",
      "source": [
        "These are the models available in Gemini 1 family\n",
        "\n",
        "- Gemini Ultra\n",
        "- Gemini Pro\n",
        "- Gemini Flash\n",
        "- Gemini Nano\n",
        "\n",
        "\n",
        "These are the models available in Gemini 1.5 family\n",
        "- Gemini flash 1.5\n",
        "- Gemini Pro 1.5\n",
        "\n",
        "\n",
        "Try out Gemini at > https://gemini.google.com/"
      ],
      "metadata": {
        "id": "jJeSAaJORH3l"
      }
    },
    {
      "cell_type": "markdown",
      "source": [
        "### Playing around with Gemini\n",
        "\n"
      ],
      "metadata": {
        "id": "KqKjzbW7RIg-"
      }
    },
    {
      "cell_type": "code",
      "source": [
        "%pip install -q llama-index\n",
        "%pip install -q llama-index-llms-gemini\n",
        "%pip install -q google-generativeai\n",
        "%pip install -q llama-index-embeddings-gemini"
      ],
      "metadata": {
        "id": "9FoIXukG5IvN"
      },
      "execution_count": null,
      "outputs": []
    },
    {
      "cell_type": "markdown",
      "source": [
        "#### Simple completion"
      ],
      "metadata": {
        "id": "5tZAntqkRqiZ"
      }
    },
    {
      "cell_type": "code",
      "source": [
        "# from llama_index.llms.gemini import Gemini\n",
        "# from google.colab import userdata\n",
        "\n",
        "# gemini_api_key = userdata.get(\"GOOGLE_API_KEY\")\n",
        "# resp = Gemini(api_key=gemini_api_key, model=\"models/gemini-1.5-flash\").complete(\"Write a poem about a cricket\")\n",
        "# print(resp)\n"
      ],
      "metadata": {
        "id": "QT0d8aoXRTz3"
      },
      "execution_count": null,
      "outputs": []
    },
    {
      "cell_type": "markdown",
      "source": [
        "#### Chat Completion"
      ],
      "metadata": {
        "id": "dnQiSzXhRshA"
      }
    },
    {
      "cell_type": "code",
      "source": [
        "# from llama_index.core.llms import ChatMessage\n",
        "# from llama_index.llms.gemini import Gemini\n",
        "# from google.colab import userdata\n",
        "\n",
        "# gemini_api_key = userdata.get(\"GOOGLE_API_KEY\")\n",
        "\n",
        "# messages = [\n",
        "#     ChatMessage(role=\"user\", content=\"Hello friend!\"),\n",
        "#     ChatMessage(role=\"assistant\", content=\"Yarr what is shakin' matey?\"),\n",
        "#     ChatMessage(\n",
        "#         role=\"user\", content=\"What is hello in spanish ?\"\n",
        "#     ),\n",
        "# ]\n",
        "# resp = Gemini(api_key=gemini_api_key, model=\"models/gemini-1.5-flash\").chat(messages)\n",
        "# print(resp)"
      ],
      "metadata": {
        "id": "ZqmIANXORZ5e"
      },
      "execution_count": null,
      "outputs": []
    },
    {
      "cell_type": "markdown",
      "source": [
        "#### Streaming"
      ],
      "metadata": {
        "id": "Ef4vQoQMRviV"
      }
    },
    {
      "cell_type": "code",
      "source": [
        "# from llama_index.llms.gemini import Gemini\n",
        "# from google.colab import userdata\n",
        "\n",
        "# gemini_api_key = userdata.get(\"GOOGLE_API_KEY\")\n",
        "\n",
        "# llm = Gemini(api_key=gemini_api_key, model=\"models/gemini-1.5-flash\")\n",
        "# resp = llm.stream_complete(\n",
        "#     \"Who is Virat Kohli ?\"\n",
        "# )\n",
        "# for r in resp:\n",
        "#     print(r.text, end=\"\")\n"
      ],
      "metadata": {
        "id": "MFunA2AuReoJ"
      },
      "execution_count": null,
      "outputs": []
    },
    {
      "cell_type": "markdown",
      "source": [
        "# Limitations of LLM's"
      ],
      "metadata": {
        "id": "1oDf94wh4Yus"
      }
    },
    {
      "cell_type": "markdown",
      "source": [
        "- May produce biased or inaccurate information\n",
        "- Privacy concerns with training data\n",
        "- Potential for misuse (e.g., generating misinformation)\n",
        "- High computational requirements\n",
        "- Can answer queries only from the data it was trained on\n",
        "\n"
      ],
      "metadata": {
        "id": "esgygtff4b9V"
      }
    }
  ]
}